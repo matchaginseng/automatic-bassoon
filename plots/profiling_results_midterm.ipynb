{
 "cells": [
  {
   "cell_type": "code",
   "execution_count": 1,
   "id": "0a57fcbd",
   "metadata": {},
   "outputs": [],
   "source": [
    "import pandas as pd\n",
    "import matplotlib.pyplot as plt"
   ]
  },
  {
   "cell_type": "code",
   "execution_count": 7,
   "id": "acc27ae5",
   "metadata": {},
   "outputs": [
    {
     "data": {
      "text/html": [
       "<div>\n",
       "<style scoped>\n",
       "    .dataframe tbody tr th:only-of-type {\n",
       "        vertical-align: middle;\n",
       "    }\n",
       "\n",
       "    .dataframe tbody tr th {\n",
       "        vertical-align: top;\n",
       "    }\n",
       "\n",
       "    .dataframe thead th {\n",
       "        text-align: right;\n",
       "    }\n",
       "</style>\n",
       "<table border=\"1\" class=\"dataframe\">\n",
       "  <thead>\n",
       "    <tr style=\"text-align: right;\">\n",
       "      <th></th>\n",
       "      <th>job_id</th>\n",
       "      <th>train_power</th>\n",
       "      <th>train_throughput</th>\n",
       "      <th>eval_power</th>\n",
       "      <th>eval_throughput</th>\n",
       "      <th>optimal_pl</th>\n",
       "    </tr>\n",
       "  </thead>\n",
       "  <tbody>\n",
       "    <tr>\n",
       "      <th>175000</th>\n",
       "      <td>rec01+try01</td>\n",
       "      <td>154.654717</td>\n",
       "      <td>0.718252</td>\n",
       "      <td>142.009836</td>\n",
       "      <td>1.792682</td>\n",
       "      <td>175000</td>\n",
       "    </tr>\n",
       "    <tr>\n",
       "      <th>150000</th>\n",
       "      <td>rec01+try01</td>\n",
       "      <td>147.236377</td>\n",
       "      <td>0.697590</td>\n",
       "      <td>137.862474</td>\n",
       "      <td>1.761866</td>\n",
       "      <td>175000</td>\n",
       "    </tr>\n",
       "    <tr>\n",
       "      <th>125000</th>\n",
       "      <td>rec01+try01</td>\n",
       "      <td>122.959808</td>\n",
       "      <td>0.620213</td>\n",
       "      <td>116.399816</td>\n",
       "      <td>1.582000</td>\n",
       "      <td>175000</td>\n",
       "    </tr>\n",
       "    <tr>\n",
       "      <th>100000</th>\n",
       "      <td>rec01+try01</td>\n",
       "      <td>102.420793</td>\n",
       "      <td>0.211871</td>\n",
       "      <td>NaN</td>\n",
       "      <td>NaN</td>\n",
       "      <td>175000</td>\n",
       "    </tr>\n",
       "  </tbody>\n",
       "</table>\n",
       "</div>"
      ],
      "text/plain": [
       "             job_id  train_power  train_throughput  eval_power  \\\n",
       "175000  rec01+try01   154.654717          0.718252  142.009836   \n",
       "150000  rec01+try01   147.236377          0.697590  137.862474   \n",
       "125000  rec01+try01   122.959808          0.620213  116.399816   \n",
       "100000  rec01+try01   102.420793          0.211871         NaN   \n",
       "\n",
       "        eval_throughput  optimal_pl  \n",
       "175000         1.792682      175000  \n",
       "150000         1.761866      175000  \n",
       "125000         1.582000      175000  \n",
       "100000              NaN      175000  "
      ]
     },
     "execution_count": 7,
     "metadata": {},
     "output_type": "execute_result"
    }
   ],
   "source": [
    "# Read JSON file\n",
    "path = \"docker_data/zeus_logs/cifar100+shufflenetv2+bs1024+adam+lr0.001+tm0.5+me100+x2+eta0.5+beta2.0+2022110216041667419495/bs1024.power.json\"\n",
    "df = pd.read_json(path)\n",
    "df"
   ]
  },
  {
   "cell_type": "code",
   "execution_count": 15,
   "id": "b7597f79",
   "metadata": {},
   "outputs": [
    {
     "data": {
      "text/plain": [
       "Text(0.5, 1.0, 'Train-time Average Power Consumption for different GPU Power Limits during Profiling')"
      ]
     },
     "execution_count": 15,
     "metadata": {},
     "output_type": "execute_result"
    },
    {
     "data": {
      "image/png": "[encoded data removed]",
      "text/plain": [
       "<Figure size 432x288 with 1 Axes>"
      ]
     },
     "metadata": {
      "needs_background": "light"
     },
     "output_type": "display_data"
    }
   ],
   "source": [
    "# Plot train_power vs. GPU power limit\n",
    "# df.index is the different power limits\n",
    "# I think `train_power` is in mW???\n",
    "plt.plot(df.index / 1000, df[\"train_power\"] / 1000, 'bo')\n",
    "plt.xlabel(\"GPU Power Limit (W)\")\n",
    "plt.ylabel(\"Train-time Average Power Consumption (W)\")\n",
    "plt.title(\"Train-time Average Power Consumption for different GPU Power Limits during Profiling\")"
   ]
  },
  {
   "cell_type": "code",
   "execution_count": 20,
   "id": "801e8dc4",
   "metadata": {},
   "outputs": [
    {
     "data": {
      "text/plain": [
       "Text(0.5, 1.0, 'Train-time Throughput for different GPU Power Limits during Profiling')"
      ]
     },
     "execution_count": 20,
     "metadata": {},
     "output_type": "execute_result"
    },
    {
     "data": {
      "image/png": "[encoded data removed]",
      "text/plain": [
       "<Figure size 432x288 with 1 Axes>"
      ]
     },
     "metadata": {
      "needs_background": "light"
     },
     "output_type": "display_data"
    }
   ],
   "source": [
    "# Plot train_throughput vs. GPU power limit\n",
    "plt.plot(df.index / 1000, df[\"train_throughput\"], 'bo')\n",
    "plt.xlabel(\"GPU Power Limit (W)\")\n",
    "plt.ylabel(\"Train-time Throughput (samples/s)\")\n",
    "plt.title(\"Train-time Throughput for different GPU Power Limits during Profiling\")"
   ]
  },
  {
   "cell_type": "code",
   "execution_count": 19,
   "id": "0e0c7a82",
   "metadata": {},
   "outputs": [
    {
     "name": "stdout",
     "output_type": "stream",
     "text": [
      "4.002736998999808\n"
     ]
    }
   ],
   "source": [
    "# Mini experiment to determine units of subtracting time.monotonic() things\n",
    "import time\n",
    "\n",
    "now = time.monotonic()\n",
    "time.sleep(4)\n",
    "after = time.monotonic()\n",
    "print(after - now) # printed 4.002736998999808, so this is in seconds"
   ]
  }
 ],
 "metadata": {
  "kernelspec": {
   "display_name": "Python 3",
   "language": "python",
   "name": "python3"
  },
  "language_info": {
   "codemirror_mode": {
    "name": "ipython",
    "version": 3
   },
   "file_extension": ".py",
   "mimetype": "text/x-python",
   "name": "python",
   "nbconvert_exporter": "python",
   "pygments_lexer": "ipython3",
   "version": "3.8.8"
  }
 },
 "nbformat": 4,
 "nbformat_minor": 5
}
