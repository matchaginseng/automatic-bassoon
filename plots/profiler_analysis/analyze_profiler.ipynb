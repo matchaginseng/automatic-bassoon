{
 "cells": [
  {
   "cell_type": "code",
   "execution_count": null,
   "id": "b2f73867",
   "metadata": {},
   "outputs": [],
   "source": [
    "# 'The optimal parameters are' --> finish profiling\n",
    "# start of profiling: 'surpasses threshold'"
   ]
  },
  {
   "cell_type": "code",
   "execution_count": null,
   "id": "3de0577d",
   "metadata": {},
   "outputs": [],
   "source": [
    "# plot accuracy vs. time\n",
    "# figure out how long profiling took?"
   ]
  }
 ],
 "metadata": {
  "kernelspec": {
   "display_name": "Python 3",
   "language": "python",
   "name": "python3"
  },
  "language_info": {
   "codemirror_mode": {
    "name": "ipython",
    "version": 3
   },
   "file_extension": ".py",
   "mimetype": "text/x-python",
   "name": "python",
   "nbconvert_exporter": "python",
   "pygments_lexer": "ipython3",
   "version": "3.8.8"
  }
 },
 "nbformat": 4,
 "nbformat_minor": 5
}
