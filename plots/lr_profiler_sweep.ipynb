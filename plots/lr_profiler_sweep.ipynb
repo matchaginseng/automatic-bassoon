{
 "cells": [
  {
   "cell_type": "code",
   "execution_count": 13,
   "id": "13bb26a6",
   "metadata": {},
   "outputs": [],
   "source": [
    "import pandas as pd\n",
    "import matplotlib.pyplot as plt\n",
    "import seaborn as sns"
   ]
  },
  {
   "cell_type": "code",
   "execution_count": 2,
   "id": "828f7c98",
   "metadata": {},
   "outputs": [],
   "source": [
    "from analyze import HistoryEntry"
   ]
  },
  {
   "cell_type": "code",
   "execution_count": 3,
   "id": "d2f3984b",
   "metadata": {},
   "outputs": [],
   "source": [
    "log_dir = 'docker_data/hc_profiler_sweep_finished/cifar100+shufflenetv2+bs8+adam+lr0.001+tm0.5+me100+eta0.5+beta2.0+2022112613391669487948'\n",
    "history_file = f'{log_dir}/history.py'"
   ]
  },
  {
   "cell_type": "code",
   "execution_count": 5,
   "id": "74eb1b99",
   "metadata": {},
   "outputs": [],
   "source": [
    "history = eval(open(history_file).read())\n",
    "# with open(history_file, \"r\") as f:\n",
    "#     eval(f.read())"
   ]
  },
  {
   "cell_type": "code",
   "execution_count": 9,
   "id": "7fab9b0e",
   "metadata": {},
   "outputs": [],
   "source": [
    "# TODO: Add learning rate\n",
    "def convert_HistoryEntry_to_dict(h_entry):\n",
    "    dict = {\n",
    "        'batch_size': h_entry.bs, \n",
    "        'power_limit': h_entry.pl, \n",
    "        'energy': h_entry.energy, \n",
    "        'time': h_entry.time, \n",
    "        'accuracy': h_entry.accuracy,\n",
    "        'total_cost': h_entry.total_cost\n",
    "    }\n",
    "    return dict"
   ]
  },
  {
   "cell_type": "code",
   "execution_count": 10,
   "id": "b069677e",
   "metadata": {},
   "outputs": [],
   "source": [
    "history_list = [convert_HistoryEntry_to_dict(he) for he in history]"
   ]
  },
  {
   "cell_type": "code",
   "execution_count": 15,
   "id": "f1b7f547",
   "metadata": {},
   "outputs": [
    {
     "data": {
      "text/html": [
       "<div>\n",
       "<style scoped>\n",
       "    .dataframe tbody tr th:only-of-type {\n",
       "        vertical-align: middle;\n",
       "    }\n",
       "\n",
       "    .dataframe tbody tr th {\n",
       "        vertical-align: top;\n",
       "    }\n",
       "\n",
       "    .dataframe thead th {\n",
       "        text-align: right;\n",
       "    }\n",
       "</style>\n",
       "<table border=\"1\" class=\"dataframe\">\n",
       "  <thead>\n",
       "    <tr style=\"text-align: right;\">\n",
       "      <th></th>\n",
       "      <th>batch_size</th>\n",
       "      <th>power_limit</th>\n",
       "      <th>energy</th>\n",
       "      <th>time</th>\n",
       "      <th>accuracy</th>\n",
       "      <th>total_cost</th>\n",
       "    </tr>\n",
       "  </thead>\n",
       "  <tbody>\n",
       "    <tr>\n",
       "      <th>0</th>\n",
       "      <td>8</td>\n",
       "      <td>175</td>\n",
       "      <td>97.751086</td>\n",
       "      <td>2.214744</td>\n",
       "      <td>0.011800</td>\n",
       "      <td>3.317713e+03</td>\n",
       "    </tr>\n",
       "    <tr>\n",
       "      <th>1</th>\n",
       "      <td>8</td>\n",
       "      <td>150</td>\n",
       "      <td>99.981968</td>\n",
       "      <td>2.172583</td>\n",
       "      <td>0.013100</td>\n",
       "      <td>2.932835e+03</td>\n",
       "    </tr>\n",
       "    <tr>\n",
       "      <th>2</th>\n",
       "      <td>8</td>\n",
       "      <td>125</td>\n",
       "      <td>100.771616</td>\n",
       "      <td>2.216342</td>\n",
       "      <td>0.010300</td>\n",
       "      <td>3.804764e+03</td>\n",
       "    </tr>\n",
       "    <tr>\n",
       "      <th>3</th>\n",
       "      <td>8</td>\n",
       "      <td>100</td>\n",
       "      <td>97.991159</td>\n",
       "      <td>2.240101</td>\n",
       "      <td>0.011100</td>\n",
       "      <td>3.567004e+03</td>\n",
       "    </tr>\n",
       "    <tr>\n",
       "      <th>4</th>\n",
       "      <td>8</td>\n",
       "      <td>175</td>\n",
       "      <td>103.531635</td>\n",
       "      <td>2.139636</td>\n",
       "      <td>0.013100</td>\n",
       "      <td>2.889905e+03</td>\n",
       "    </tr>\n",
       "    <tr>\n",
       "      <th>...</th>\n",
       "      <td>...</td>\n",
       "      <td>...</td>\n",
       "      <td>...</td>\n",
       "      <td>...</td>\n",
       "      <td>...</td>\n",
       "      <td>...</td>\n",
       "    </tr>\n",
       "    <tr>\n",
       "      <th>79</th>\n",
       "      <td>512</td>\n",
       "      <td>100</td>\n",
       "      <td>104.401827</td>\n",
       "      <td>52.128072</td>\n",
       "      <td>0.026758</td>\n",
       "      <td>2.175263e+06</td>\n",
       "    </tr>\n",
       "    <tr>\n",
       "      <th>80</th>\n",
       "      <td>512</td>\n",
       "      <td>175</td>\n",
       "      <td>155.315767</td>\n",
       "      <td>18.265146</td>\n",
       "      <td>0.018555</td>\n",
       "      <td>1.100791e+06</td>\n",
       "    </tr>\n",
       "    <tr>\n",
       "      <th>81</th>\n",
       "      <td>512</td>\n",
       "      <td>150</td>\n",
       "      <td>147.155437</td>\n",
       "      <td>18.852906</td>\n",
       "      <td>0.018945</td>\n",
       "      <td>1.112609e+06</td>\n",
       "    </tr>\n",
       "    <tr>\n",
       "      <th>82</th>\n",
       "      <td>512</td>\n",
       "      <td>125</td>\n",
       "      <td>122.780849</td>\n",
       "      <td>21.854061</td>\n",
       "      <td>0.018359</td>\n",
       "      <td>1.330220e+06</td>\n",
       "    </tr>\n",
       "    <tr>\n",
       "      <th>83</th>\n",
       "      <td>512</td>\n",
       "      <td>100</td>\n",
       "      <td>104.405009</td>\n",
       "      <td>52.106343</td>\n",
       "      <td>0.019434</td>\n",
       "      <td>2.993838e+06</td>\n",
       "    </tr>\n",
       "  </tbody>\n",
       "</table>\n",
       "<p>84 rows × 6 columns</p>\n",
       "</div>"
      ],
      "text/plain": [
       "    batch_size  power_limit      energy       time  accuracy    total_cost\n",
       "0            8          175   97.751086   2.214744  0.011800  3.317713e+03\n",
       "1            8          150   99.981968   2.172583  0.013100  2.932835e+03\n",
       "2            8          125  100.771616   2.216342  0.010300  3.804764e+03\n",
       "3            8          100   97.991159   2.240101  0.011100  3.567004e+03\n",
       "4            8          175  103.531635   2.139636  0.013100  2.889905e+03\n",
       "..         ...          ...         ...        ...       ...           ...\n",
       "79         512          100  104.401827  52.128072  0.026758  2.175263e+06\n",
       "80         512          175  155.315767  18.265146  0.018555  1.100791e+06\n",
       "81         512          150  147.155437  18.852906  0.018945  1.112609e+06\n",
       "82         512          125  122.780849  21.854061  0.018359  1.330220e+06\n",
       "83         512          100  104.405009  52.106343  0.019434  2.993838e+06\n",
       "\n",
       "[84 rows x 6 columns]"
      ]
     },
     "execution_count": 15,
     "metadata": {},
     "output_type": "execute_result"
    }
   ],
   "source": [
    "history_df = pd.DataFrame(history_list)\n",
    "history_df"
   ]
  },
  {
   "cell_type": "code",
   "execution_count": 44,
   "id": "0057a039",
   "metadata": {},
   "outputs": [],
   "source": [
    "heatmap_df = history_df.pivot_table(index='batch_size', columns='power_limit', values='total_cost')"
   ]
  },
  {
   "cell_type": "code",
   "execution_count": 45,
   "id": "12b00be2",
   "metadata": {},
   "outputs": [
    {
     "data": {
      "text/html": [
       "<div>\n",
       "<style scoped>\n",
       "    .dataframe tbody tr th:only-of-type {\n",
       "        vertical-align: middle;\n",
       "    }\n",
       "\n",
       "    .dataframe tbody tr th {\n",
       "        vertical-align: top;\n",
       "    }\n",
       "\n",
       "    .dataframe thead th {\n",
       "        text-align: right;\n",
       "    }\n",
       "</style>\n",
       "<table border=\"1\" class=\"dataframe\">\n",
       "  <thead>\n",
       "    <tr style=\"text-align: right;\">\n",
       "      <th>power_limit</th>\n",
       "      <th>100</th>\n",
       "      <th>125</th>\n",
       "      <th>150</th>\n",
       "      <th>175</th>\n",
       "    </tr>\n",
       "    <tr>\n",
       "      <th>batch_size</th>\n",
       "      <th></th>\n",
       "      <th></th>\n",
       "      <th></th>\n",
       "      <th></th>\n",
       "    </tr>\n",
       "  </thead>\n",
       "  <tbody>\n",
       "    <tr>\n",
       "      <th>8</th>\n",
       "      <td>3.530260e+03</td>\n",
       "      <td>3.607626e+03</td>\n",
       "      <td>3219.304360</td>\n",
       "      <td>3221.959437</td>\n",
       "    </tr>\n",
       "    <tr>\n",
       "      <th>16</th>\n",
       "      <td>8.305877e+03</td>\n",
       "      <td>6.291254e+03</td>\n",
       "      <td>5911.664731</td>\n",
       "      <td>6326.085174</td>\n",
       "    </tr>\n",
       "    <tr>\n",
       "      <th>32</th>\n",
       "      <td>1.456379e+04</td>\n",
       "      <td>1.306516e+04</td>\n",
       "      <td>9032.513154</td>\n",
       "      <td>9700.329352</td>\n",
       "    </tr>\n",
       "    <tr>\n",
       "      <th>64</th>\n",
       "      <td>9.348596e+04</td>\n",
       "      <td>3.962302e+04</td>\n",
       "      <td>48163.920144</td>\n",
       "      <td>39222.601732</td>\n",
       "    </tr>\n",
       "    <tr>\n",
       "      <th>128</th>\n",
       "      <td>2.144435e+05</td>\n",
       "      <td>8.455489e+04</td>\n",
       "      <td>91339.483726</td>\n",
       "      <td>74303.056751</td>\n",
       "    </tr>\n",
       "    <tr>\n",
       "      <th>256</th>\n",
       "      <td>6.789615e+05</td>\n",
       "      <td>2.144476e+05</td>\n",
       "      <td>186417.737613</td>\n",
       "      <td>157955.645740</td>\n",
       "    </tr>\n",
       "    <tr>\n",
       "      <th>512</th>\n",
       "      <td>2.146683e+06</td>\n",
       "      <td>1.012744e+06</td>\n",
       "      <td>708783.579403</td>\n",
       "      <td>784428.896917</td>\n",
       "    </tr>\n",
       "  </tbody>\n",
       "</table>\n",
       "</div>"
      ],
      "text/plain": [
       "power_limit           100           125            150            175\n",
       "batch_size                                                           \n",
       "8            3.530260e+03  3.607626e+03    3219.304360    3221.959437\n",
       "16           8.305877e+03  6.291254e+03    5911.664731    6326.085174\n",
       "32           1.456379e+04  1.306516e+04    9032.513154    9700.329352\n",
       "64           9.348596e+04  3.962302e+04   48163.920144   39222.601732\n",
       "128          2.144435e+05  8.455489e+04   91339.483726   74303.056751\n",
       "256          6.789615e+05  2.144476e+05  186417.737613  157955.645740\n",
       "512          2.146683e+06  1.012744e+06  708783.579403  784428.896917"
      ]
     },
     "execution_count": 45,
     "metadata": {},
     "output_type": "execute_result"
    }
   ],
   "source": [
    "heatmap_df"
   ]
  },
  {
   "cell_type": "code",
   "execution_count": 46,
   "id": "52e67015",
   "metadata": {},
   "outputs": [
    {
     "data": {
      "text/plain": [
       "<AxesSubplot:xlabel='power_limit', ylabel='batch_size'>"
      ]
     },
     "execution_count": 46,
     "metadata": {},
     "output_type": "execute_result"
    },
    {
     "data": {
      "image/png": "[encoded data removed]",
      "text/plain": [
       "<Figure size 432x288 with 2 Axes>"
      ]
     },
     "metadata": {
      "needs_background": "light"
     },
     "output_type": "display_data"
    }
   ],
   "source": [
    "sns.heatmap(heatmap_df)"
   ]
  },
  {
   "cell_type": "code",
   "execution_count": 42,
   "id": "830bdf0d",
   "metadata": {},
   "outputs": [
    {
     "data": {
      "text/plain": [
       "<matplotlib.collections.PolyCollection at 0x7fb2bcf8b1f0>"
      ]
     },
     "execution_count": 42,
     "metadata": {},
     "output_type": "execute_result"
    },
    {
     "data": {
      "image/png": "[encoded data removed]",
      "text/plain": [
       "<Figure size 432x288 with 1 Axes>"
      ]
     },
     "metadata": {
      "needs_background": "light"
     },
     "output_type": "display_data"
    }
   ],
   "source": [
    "heatmap_df = history_df.filter(['batch_size', 'power_limit'])\n",
    "plt.pcolor(heatmap_df)"
   ]
  },
  {
   "cell_type": "code",
   "execution_count": 35,
   "id": "4ec80228",
   "metadata": {},
   "outputs": [
    {
     "ename": "AttributeError",
     "evalue": "'DataFrameGroupBy' object has no attribute 'unstack'",
     "output_type": "error",
     "traceback": [
      "\u001b[0;31m---------------------------------------------------------------------------\u001b[0m",
      "\u001b[0;31mAttributeError\u001b[0m                            Traceback (most recent call last)",
      "\u001b[0;32m<ipython-input-35-b6af8f0d0752>\u001b[0m in \u001b[0;36m<module>\u001b[0;34m\u001b[0m\n\u001b[0;32m----> 1\u001b[0;31m \u001b[0mheatmap_df\u001b[0m \u001b[0;34m=\u001b[0m \u001b[0mhistory_df\u001b[0m\u001b[0;34m.\u001b[0m\u001b[0mfilter\u001b[0m\u001b[0;34m(\u001b[0m\u001b[0;34m[\u001b[0m\u001b[0;34m'batch_size'\u001b[0m\u001b[0;34m,\u001b[0m \u001b[0;34m'power_limit'\u001b[0m\u001b[0;34m,\u001b[0m \u001b[0;34m'total_cost'\u001b[0m\u001b[0;34m]\u001b[0m\u001b[0;34m)\u001b[0m\u001b[0;34m.\u001b[0m\u001b[0mgroupby\u001b[0m\u001b[0;34m(\u001b[0m\u001b[0;34m[\u001b[0m\u001b[0;34m'batch_size'\u001b[0m\u001b[0;34m,\u001b[0m \u001b[0;34m'power_limit'\u001b[0m\u001b[0;34m]\u001b[0m\u001b[0;34m)\u001b[0m\u001b[0;34m.\u001b[0m\u001b[0munstack\u001b[0m\u001b[0;34m(\u001b[0m\u001b[0mlevel\u001b[0m\u001b[0;34m=\u001b[0m\u001b[0;36m0\u001b[0m\u001b[0;34m)\u001b[0m\u001b[0;34m\u001b[0m\u001b[0;34m\u001b[0m\u001b[0m\n\u001b[0m\u001b[1;32m      2\u001b[0m \u001b[0;31m# .pivot('energy', 'power_limit', 'total_cost')\u001b[0m\u001b[0;34m\u001b[0m\u001b[0;34m\u001b[0m\u001b[0;34m\u001b[0m\u001b[0m\n\u001b[1;32m      3\u001b[0m \u001b[0mheatmap_df\u001b[0m\u001b[0;34m\u001b[0m\u001b[0;34m\u001b[0m\u001b[0m\n",
      "\u001b[0;32m~/opt/anaconda3/lib/python3.8/site-packages/pandas/core/groupby/groupby.py\u001b[0m in \u001b[0;36m__getattr__\u001b[0;34m(self, attr)\u001b[0m\n\u001b[1;32m    750\u001b[0m             \u001b[0;32mreturn\u001b[0m \u001b[0mself\u001b[0m\u001b[0;34m[\u001b[0m\u001b[0mattr\u001b[0m\u001b[0;34m]\u001b[0m\u001b[0;34m\u001b[0m\u001b[0;34m\u001b[0m\u001b[0m\n\u001b[1;32m    751\u001b[0m \u001b[0;34m\u001b[0m\u001b[0m\n\u001b[0;32m--> 752\u001b[0;31m         raise AttributeError(\n\u001b[0m\u001b[1;32m    753\u001b[0m             \u001b[0;34mf\"'{type(self).__name__}' object has no attribute '{attr}'\"\u001b[0m\u001b[0;34m\u001b[0m\u001b[0;34m\u001b[0m\u001b[0m\n\u001b[1;32m    754\u001b[0m         )\n",
      "\u001b[0;31mAttributeError\u001b[0m: 'DataFrameGroupBy' object has no attribute 'unstack'"
     ]
    }
   ],
   "source": [
    "heatmap_df = history_df.filter(['batch_size', 'power_limit', 'total_cost']).groupby(['batch_size', 'power_limit']).unstack(level=0)\n",
    "# .pivot('energy', 'power_limit', 'total_cost')\n",
    "heatmap_df"
   ]
  },
  {
   "cell_type": "code",
   "execution_count": 18,
   "id": "84bccfeb",
   "metadata": {},
   "outputs": [
    {
     "data": {
      "text/plain": [
       "<AxesSubplot:>"
      ]
     },
     "execution_count": 18,
     "metadata": {},
     "output_type": "execute_result"
    },
    {
     "data": {
      "image/png": "[encoded data removed]",
      "text/plain": [
       "<Figure size 432x288 with 2 Axes>"
      ]
     },
     "metadata": {
      "needs_background": "light"
     },
     "output_type": "display_data"
    }
   ],
   "source": [
    "sns.heatmap(heatmap_df)"
   ]
  }
 ],
 "metadata": {
  "kernelspec": {
   "display_name": "Python 3",
   "language": "python",
   "name": "python3"
  },
  "language_info": {
   "codemirror_mode": {
    "name": "ipython",
    "version": 3
   },
   "file_extension": ".py",
   "mimetype": "text/x-python",
   "name": "python",
   "nbconvert_exporter": "python",
   "pygments_lexer": "ipython3",
   "version": "3.8.8"
  }
 },
 "nbformat": 4,
 "nbformat_minor": 5
}
