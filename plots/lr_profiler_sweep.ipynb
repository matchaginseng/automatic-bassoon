{
 "cells": [
  {
   "cell_type": "code",
   "execution_count": 1,
   "id": "13bb26a6",
   "metadata": {},
   "outputs": [],
   "source": [
    "import pandas as pd\n",
    "import matplotlib.pyplot as plt\n",
    "import seaborn as sns"
   ]
  },
  {
   "cell_type": "code",
   "execution_count": 2,
   "id": "828f7c98",
   "metadata": {},
   "outputs": [],
   "source": [
    "from analyze import HistoryEntry"
   ]
  },
  {
   "cell_type": "code",
   "execution_count": 3,
   "id": "d2f3984b",
   "metadata": {},
   "outputs": [],
   "source": [
    "log_dir = 'docker_data/hc_profiler_sweep_correct1/cifar100+shufflenetv2+bs8+adam+lr0.001+tm0.5+me100+eta0.5+beta2.0+2022112711481669567728'\n",
    "history_file = f'{log_dir}/history.py'"
   ]
  },
  {
   "cell_type": "code",
   "execution_count": 4,
   "id": "74eb1b99",
   "metadata": {},
   "outputs": [],
   "source": [
    "history = eval(open(history_file).read())"
   ]
  },
  {
   "cell_type": "code",
   "execution_count": 5,
   "id": "7fab9b0e",
   "metadata": {},
   "outputs": [],
   "source": [
    "def convert_HistoryEntry_to_dict(h_entry):\n",
    "    dict = {\n",
    "        'batch_size': h_entry.bs, \n",
    "        'learning_rate': h_entry.lr,\n",
    "        'power_limit': h_entry.pl, \n",
    "        'learning_rate_factor': h_entry.factor,\n",
    "        'energy': h_entry.energy, \n",
    "        'time': h_entry.time, \n",
    "        'accuracy': h_entry.accuracy,\n",
    "        'total_cost': h_entry.total_cost\n",
    "    }\n",
    "    return dict"
   ]
  },
  {
   "cell_type": "code",
   "execution_count": 6,
   "id": "b069677e",
   "metadata": {},
   "outputs": [],
   "source": [
    "history_list = [convert_HistoryEntry_to_dict(he) for he in history]"
   ]
  },
  {
   "cell_type": "code",
   "execution_count": 46,
   "id": "f1b7f547",
   "metadata": {},
   "outputs": [
    {
     "data": {
      "text/html": [
       "<div>\n",
       "<style scoped>\n",
       "    .dataframe tbody tr th:only-of-type {\n",
       "        vertical-align: middle;\n",
       "    }\n",
       "\n",
       "    .dataframe tbody tr th {\n",
       "        vertical-align: top;\n",
       "    }\n",
       "\n",
       "    .dataframe thead th {\n",
       "        text-align: right;\n",
       "    }\n",
       "</style>\n",
       "<table border=\"1\" class=\"dataframe\">\n",
       "  <thead>\n",
       "    <tr style=\"text-align: right;\">\n",
       "      <th></th>\n",
       "      <th>batch_size</th>\n",
       "      <th>learning_rate</th>\n",
       "      <th>power_limit</th>\n",
       "      <th>learning_rate_factor</th>\n",
       "      <th>energy</th>\n",
       "      <th>time</th>\n",
       "      <th>accuracy</th>\n",
       "      <th>total_cost</th>\n",
       "      <th>cost1</th>\n",
       "    </tr>\n",
       "  </thead>\n",
       "  <tbody>\n",
       "    <tr>\n",
       "      <th>0</th>\n",
       "      <td>8</td>\n",
       "      <td>0.0008</td>\n",
       "      <td>175</td>\n",
       "      <td>0.8</td>\n",
       "      <td>97.069213</td>\n",
       "      <td>2.180381</td>\n",
       "      <td>0.0115</td>\n",
       "      <td>5.158387</td>\n",
       "      <td>5.158387</td>\n",
       "    </tr>\n",
       "    <tr>\n",
       "      <th>1</th>\n",
       "      <td>8</td>\n",
       "      <td>0.0008</td>\n",
       "      <td>150</td>\n",
       "      <td>0.8</td>\n",
       "      <td>95.983149</td>\n",
       "      <td>2.242382</td>\n",
       "      <td>0.0101</td>\n",
       "      <td>6.016315</td>\n",
       "      <td>6.016315</td>\n",
       "    </tr>\n",
       "    <tr>\n",
       "      <th>2</th>\n",
       "      <td>8</td>\n",
       "      <td>0.0008</td>\n",
       "      <td>125</td>\n",
       "      <td>0.8</td>\n",
       "      <td>96.967632</td>\n",
       "      <td>2.238270</td>\n",
       "      <td>0.0133</td>\n",
       "      <td>4.576969</td>\n",
       "      <td>4.576969</td>\n",
       "    </tr>\n",
       "    <tr>\n",
       "      <th>3</th>\n",
       "      <td>8</td>\n",
       "      <td>0.0008</td>\n",
       "      <td>100</td>\n",
       "      <td>0.8</td>\n",
       "      <td>97.486305</td>\n",
       "      <td>2.191365</td>\n",
       "      <td>0.0102</td>\n",
       "      <td>5.854088</td>\n",
       "      <td>5.854088</td>\n",
       "    </tr>\n",
       "    <tr>\n",
       "      <th>4</th>\n",
       "      <td>8</td>\n",
       "      <td>0.0010</td>\n",
       "      <td>175</td>\n",
       "      <td>1.0</td>\n",
       "      <td>97.340309</td>\n",
       "      <td>2.227548</td>\n",
       "      <td>0.0122</td>\n",
       "      <td>4.972549</td>\n",
       "      <td>4.972549</td>\n",
       "    </tr>\n",
       "  </tbody>\n",
       "</table>\n",
       "</div>"
      ],
      "text/plain": [
       "   batch_size  learning_rate  power_limit  learning_rate_factor     energy  \\\n",
       "0           8         0.0008          175                   0.8  97.069213   \n",
       "1           8         0.0008          150                   0.8  95.983149   \n",
       "2           8         0.0008          125                   0.8  96.967632   \n",
       "3           8         0.0008          100                   0.8  97.486305   \n",
       "4           8         0.0010          175                   1.0  97.340309   \n",
       "\n",
       "       time  accuracy  total_cost     cost1  \n",
       "0  2.180381    0.0115    5.158387  5.158387  \n",
       "1  2.242382    0.0101    6.016315  6.016315  \n",
       "2  2.238270    0.0133    4.576969  4.576969  \n",
       "3  2.191365    0.0102    5.854088  5.854088  \n",
       "4  2.227548    0.0122    4.972549  4.972549  "
      ]
     },
     "execution_count": 46,
     "metadata": {},
     "output_type": "execute_result"
    }
   ],
   "source": [
    "history_df = pd.DataFrame(history_list)\n",
    "history_df[\"cost1\"] = history_df.total_cost\n",
    "history_df.head()"
   ]
  },
  {
   "cell_type": "code",
   "execution_count": 47,
   "id": "7ec0ca55",
   "metadata": {},
   "outputs": [],
   "source": [
    "# For each (bs, lr) pair, get power limit with min total_cost\n",
    "# https://stackoverflow.com/questions/15705630/get-the-rows-which-have-the-max-value-in-groups-using-groupby\n",
    "MAXPOWER = 175\n",
    "ETA = 0.5\n",
    "history_df[\"cost2\"] = (ETA * history_df.energy + (1 - ETA) * MAXPOWER) * history_df.time/history_df.accuracy\n",
    "pl100 = history_df[history_df.power_limit == 150]\n",
    "# cost_idx = history_df.groupby(['batch_size', 'learning_rate_factor'])['total_cost'].transform(min) == history_df['total_cost']\n",
    "# history_df[cost_idx].head()"
   ]
  },
  {
   "cell_type": "code",
   "execution_count": null,
   "id": "0057a039",
   "metadata": {},
   "outputs": [],
   "source": [
    "# cost_heatmap_df = history_df[cost_idx].pivot_table(index='batch_size', columns='learning_rate_factor', values='total_cost')\n",
    "# cost_heatmap_df.head()"
   ]
  },
  {
   "cell_type": "code",
   "execution_count": 68,
   "id": "52e67015",
   "metadata": {},
   "outputs": [
    {
     "data": {
      "text/plain": [
       "Text(0.5, 0.98, 'Profiling Energy, Time, Accuracy and Cost for Various Hyperparameters')"
      ]
     },
     "execution_count": 68,
     "metadata": {},
     "output_type": "execute_result"
    },
    {
     "data": {
      "image/png": "[encoded data removed]",
      "text/plain": [
       "<Figure size 1008x324 with 5 Axes>"
      ]
     },
     "metadata": {
      "needs_background": "light"
     },
     "output_type": "display_data"
    }
   ],
   "source": [
    "import math\n",
    "\n",
    "bss = [8, 16, 32, 64, 128, 256, 512]\n",
    "lr_mults = [0.8, 1.0, 1.2]\n",
    "pls = [100, 125, 150, 175]\n",
    "\n",
    "metrics = [\"Energy (W)\", \"Time (s)\", \"Accuracy\", \"Cost1\", \"Cost2\"]\n",
    "colors = [\"red\", \"orange\", \"yellow\", \"green\", \"blue\", \"purple\", \"brown\"]\n",
    "markers = [\"o\", \"^\", \"P\"]\n",
    "\n",
    "fig, axs = plt.subplots(1, 5, figsize=(14, 4.5))\n",
    "for i in range(len(metrics)):\n",
    "    for _, row in history_df.iterrows():\n",
    "        color = colors[bss.index(int(row.batch_size))]\n",
    "        marker = markers[lr_mults.index(float(row.learning_rate_factor))]\n",
    "        val = row[metrics[i].split(\" \")[0].lower()]\n",
    "        if \"Cost\" in metrics[i]:\n",
    "            val = math.log(val)\n",
    "        axs[i].scatter(row.power_limit, val, c=color, marker=marker, edgecolor=\"black\", s=100)\n",
    "    axs[i].set_ylabel((\"Log of \" if \"Cost\" in metrics[i] else \"\") + metrics[i])\n",
    "    axs[i].set_xticks(range(100, 176, 25), [\"100\", \"125\", \"150\", \"175\"])\n",
    "\n",
    "f = lambda m,c: plt.scatter([],[],marker=m, color=c, edgecolor=\"black\")\n",
    "handles = [f(\"o\", colors[i]) for i in range(len(colors))]\n",
    "handles += [f(markers[i], \"black\") for i in range(len(markers))]\n",
    "\n",
    "fig.tight_layout(rect=[0, 0.03, 1, 0.95])\n",
    "fig.legend(handles, [f\"BS {bs}\" for bs in bss] + [f\"LR Mult. {lr}\" for lr in lr_mults], ncol=3, loc='upper left', framealpha=1, prop={'size': 8})\n",
    "fig.text(0.5, 0.01, 'Power Limit', ha='center')\n",
    "fig.suptitle(\"Profiling Energy, Time, Accuracy and Cost for Various Hyperparameters\")"
   ]
  },
  {
   "cell_type": "code",
   "execution_count": null,
   "id": "5d5b900d",
   "metadata": {},
   "outputs": [],
   "source": []
  },
  {
   "cell_type": "code",
   "execution_count": null,
   "id": "12e69ce2",
   "metadata": {},
   "outputs": [],
   "source": [
    "factor_lr_mapping = history_df.pivot_table(index='batch_size', columns='learning_rate_factor', values='learning_rate')\n",
    "factor_lr_mapping"
   ]
  },
  {
   "cell_type": "markdown",
   "id": "e7e6df39",
   "metadata": {},
   "source": [
    "# Is it the same with power?"
   ]
  },
  {
   "cell_type": "code",
   "execution_count": null,
   "id": "f0f70ac0",
   "metadata": {},
   "outputs": [],
   "source": [
    "history_df['avg_power'] = history_df['energy'] / history_df['time']\n",
    "history_df.head()"
   ]
  },
  {
   "cell_type": "code",
   "execution_count": null,
   "id": "4c44180a",
   "metadata": {},
   "outputs": [],
   "source": [
    "# A bit weird, but we'll pick the (bs, lr) pair with the lowest average power... \n",
    "# Note that \"energy\" is average power\n",
    "power_idx = history_df.groupby(['batch_size', 'learning_rate_factor'])['energy'].transform(min) == history_df['energy']\n",
    "history_df[power_idx].head()"
   ]
  },
  {
   "cell_type": "code",
   "execution_count": null,
   "id": "e32e47e5",
   "metadata": {},
   "outputs": [],
   "source": [
    "power_heatmap_df = history_df[power_idx].pivot_table(index='batch_size', columns='learning_rate_factor', values='energy')\n",
    "power_heatmap_df.head()"
   ]
  },
  {
   "cell_type": "code",
   "execution_count": null,
   "id": "96d2be5d",
   "metadata": {},
   "outputs": [],
   "source": [
    "sns.heatmap(power_heatmap_df, annot=True, fmt='g', cmap=cmap)\n",
    "plt.title(\"Avg Power Usage for Different BS, LR\")"
   ]
  },
  {
   "cell_type": "markdown",
   "id": "5a120692",
   "metadata": {},
   "source": [
    "# How about accuracy?"
   ]
  },
  {
   "cell_type": "code",
   "execution_count": null,
   "id": "3f486bbb",
   "metadata": {},
   "outputs": [],
   "source": [
    "history_df['acc_per_time'] = history_df['accuracy']\n",
    "history_df.head()"
   ]
  },
  {
   "cell_type": "code",
   "execution_count": null,
   "id": "8922759c",
   "metadata": {},
   "outputs": [],
   "source": [
    "# A bit weird, but we'll pick the (bs, lr) pair with the highest average accuracy rate...??? \n",
    "acc_idx = history_df.groupby(['batch_size', 'learning_rate_factor'])['acc_per_time'].transform(max) == history_df['acc_per_time']\n",
    "history_df[acc_idx].head()"
   ]
  },
  {
   "cell_type": "code",
   "execution_count": null,
   "id": "20a00294",
   "metadata": {},
   "outputs": [],
   "source": [
    "acc_heatmap_df = history_df[acc_idx].pivot_table(index='batch_size', columns='learning_rate_factor', values='acc_per_time')\n",
    "acc_heatmap_df.head()"
   ]
  },
  {
   "cell_type": "code",
   "execution_count": null,
   "id": "7985da23",
   "metadata": {},
   "outputs": [],
   "source": [
    "sns.heatmap(history_df.pivot_table(index='batch_size', columns='learning_rate_factor', values='accuracy'), annot=True, fmt='g')\n",
    "plt.title('Profiling Accuracy for Different BS, LR')\n",
    "plt.show()"
   ]
  },
  {
   "cell_type": "code",
   "execution_count": null,
   "id": "a4767a03",
   "metadata": {},
   "outputs": [],
   "source": [
    "sns.heatmap(history_df.pivot_table(index='batch_size', columns='learning_rate_factor', values='time'), annot=True, fmt='g')\n",
    "plt.title('Profiling Time for Different BS, LR')\n",
    "plt.show()"
   ]
  }
 ],
 "metadata": {
  "kernelspec": {
   "display_name": "Python 3.7.6",
   "language": "python",
   "name": "python3"
  },
  "language_info": {
   "codemirror_mode": {
    "name": "ipython",
    "version": 3
   },
   "file_extension": ".py",
   "mimetype": "text/x-python",
   "name": "python",
   "nbconvert_exporter": "python",
   "pygments_lexer": "ipython3",
   "version": "3.7.6"
  },
  "vscode": {
   "interpreter": {
    "hash": "3067ead486e059ec00ffe7555bdb889e6e264a24dc711bf108106cc7baee8d5d"
   }
  }
 },
 "nbformat": 4,
 "nbformat_minor": 5
}
